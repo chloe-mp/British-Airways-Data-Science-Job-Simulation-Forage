{
 "cells": [
  {
   "cell_type": "markdown",
   "metadata": {},
   "source": [
    "# Task 2\n",
    "\n",
    "---\n",
    "\n",
    "## Predictive modeling of customer bookings\n",
    "\n",
    "This Jupyter notebook includes some code to get you started with this predictive modeling task. We will use various packages for data manipulation, feature engineering and machine learning.\n",
    "\n",
    "### Exploratory data analysis\n",
    "\n",
    "First, we must explore the data in order to better understand what we have and the statistical properties of the dataset."
   ]
  },
  {
   "cell_type": "code",
   "execution_count": 71,
   "metadata": {},
   "outputs": [],
   "source": [
    "import pandas as pd\n",
    "import numpy as np\n",
    "import os\n",
    "\n",
    "import matplotlib.pyplot as plt\n",
    "import seaborn as sns"
   ]
  },
  {
   "cell_type": "code",
   "execution_count": 72,
   "metadata": {},
   "outputs": [
    {
     "data": {
      "text/html": [
       "<div>\n",
       "<style scoped>\n",
       "    .dataframe tbody tr th:only-of-type {\n",
       "        vertical-align: middle;\n",
       "    }\n",
       "\n",
       "    .dataframe tbody tr th {\n",
       "        vertical-align: top;\n",
       "    }\n",
       "\n",
       "    .dataframe thead th {\n",
       "        text-align: right;\n",
       "    }\n",
       "</style>\n",
       "<table border=\"1\" class=\"dataframe\">\n",
       "  <thead>\n",
       "    <tr style=\"text-align: right;\">\n",
       "      <th></th>\n",
       "      <th>num_passengers</th>\n",
       "      <th>sales_channel</th>\n",
       "      <th>trip_type</th>\n",
       "      <th>purchase_lead</th>\n",
       "      <th>length_of_stay</th>\n",
       "      <th>flight_hour</th>\n",
       "      <th>flight_day</th>\n",
       "      <th>route</th>\n",
       "      <th>booking_origin</th>\n",
       "      <th>wants_extra_baggage</th>\n",
       "      <th>wants_preferred_seat</th>\n",
       "      <th>wants_in_flight_meals</th>\n",
       "      <th>flight_duration</th>\n",
       "      <th>booking_complete</th>\n",
       "    </tr>\n",
       "  </thead>\n",
       "  <tbody>\n",
       "    <tr>\n",
       "      <th>0</th>\n",
       "      <td>2</td>\n",
       "      <td>Internet</td>\n",
       "      <td>RoundTrip</td>\n",
       "      <td>262</td>\n",
       "      <td>19</td>\n",
       "      <td>7</td>\n",
       "      <td>Sat</td>\n",
       "      <td>AKLDEL</td>\n",
       "      <td>New Zealand</td>\n",
       "      <td>1</td>\n",
       "      <td>0</td>\n",
       "      <td>0</td>\n",
       "      <td>5.52</td>\n",
       "      <td>0</td>\n",
       "    </tr>\n",
       "    <tr>\n",
       "      <th>1</th>\n",
       "      <td>1</td>\n",
       "      <td>Internet</td>\n",
       "      <td>RoundTrip</td>\n",
       "      <td>112</td>\n",
       "      <td>20</td>\n",
       "      <td>3</td>\n",
       "      <td>Sat</td>\n",
       "      <td>AKLDEL</td>\n",
       "      <td>New Zealand</td>\n",
       "      <td>0</td>\n",
       "      <td>0</td>\n",
       "      <td>0</td>\n",
       "      <td>5.52</td>\n",
       "      <td>0</td>\n",
       "    </tr>\n",
       "    <tr>\n",
       "      <th>2</th>\n",
       "      <td>2</td>\n",
       "      <td>Internet</td>\n",
       "      <td>RoundTrip</td>\n",
       "      <td>243</td>\n",
       "      <td>22</td>\n",
       "      <td>17</td>\n",
       "      <td>Wed</td>\n",
       "      <td>AKLDEL</td>\n",
       "      <td>India</td>\n",
       "      <td>1</td>\n",
       "      <td>1</td>\n",
       "      <td>0</td>\n",
       "      <td>5.52</td>\n",
       "      <td>0</td>\n",
       "    </tr>\n",
       "    <tr>\n",
       "      <th>3</th>\n",
       "      <td>1</td>\n",
       "      <td>Internet</td>\n",
       "      <td>RoundTrip</td>\n",
       "      <td>96</td>\n",
       "      <td>31</td>\n",
       "      <td>4</td>\n",
       "      <td>Sat</td>\n",
       "      <td>AKLDEL</td>\n",
       "      <td>New Zealand</td>\n",
       "      <td>0</td>\n",
       "      <td>0</td>\n",
       "      <td>1</td>\n",
       "      <td>5.52</td>\n",
       "      <td>0</td>\n",
       "    </tr>\n",
       "    <tr>\n",
       "      <th>4</th>\n",
       "      <td>2</td>\n",
       "      <td>Internet</td>\n",
       "      <td>RoundTrip</td>\n",
       "      <td>68</td>\n",
       "      <td>22</td>\n",
       "      <td>15</td>\n",
       "      <td>Wed</td>\n",
       "      <td>AKLDEL</td>\n",
       "      <td>India</td>\n",
       "      <td>1</td>\n",
       "      <td>0</td>\n",
       "      <td>1</td>\n",
       "      <td>5.52</td>\n",
       "      <td>0</td>\n",
       "    </tr>\n",
       "  </tbody>\n",
       "</table>\n",
       "</div>"
      ],
      "text/plain": [
       "   num_passengers sales_channel  trip_type  purchase_lead  length_of_stay  \\\n",
       "0               2      Internet  RoundTrip            262              19   \n",
       "1               1      Internet  RoundTrip            112              20   \n",
       "2               2      Internet  RoundTrip            243              22   \n",
       "3               1      Internet  RoundTrip             96              31   \n",
       "4               2      Internet  RoundTrip             68              22   \n",
       "\n",
       "   flight_hour flight_day   route booking_origin  wants_extra_baggage  \\\n",
       "0            7        Sat  AKLDEL    New Zealand                    1   \n",
       "1            3        Sat  AKLDEL    New Zealand                    0   \n",
       "2           17        Wed  AKLDEL          India                    1   \n",
       "3            4        Sat  AKLDEL    New Zealand                    0   \n",
       "4           15        Wed  AKLDEL          India                    1   \n",
       "\n",
       "   wants_preferred_seat  wants_in_flight_meals  flight_duration  \\\n",
       "0                     0                      0             5.52   \n",
       "1                     0                      0             5.52   \n",
       "2                     1                      0             5.52   \n",
       "3                     0                      1             5.52   \n",
       "4                     0                      1             5.52   \n",
       "\n",
       "   booking_complete  \n",
       "0                 0  \n",
       "1                 0  \n",
       "2                 0  \n",
       "3                 0  \n",
       "4                 0  "
      ]
     },
     "execution_count": 72,
     "metadata": {},
     "output_type": "execute_result"
    }
   ],
   "source": [
    "df = pd.read_csv(\"/Users/chloe/Downloads/customer_booking.csv\", encoding=\"ISO-8859-1\")\n",
    "df.head()"
   ]
  },
  {
   "cell_type": "markdown",
   "metadata": {},
   "source": [
    "The `.head()` method allows us to view the first 5 rows in the dataset, this is useful for visual inspection of our columns"
   ]
  },
  {
   "cell_type": "code",
   "execution_count": 73,
   "metadata": {},
   "outputs": [
    {
     "name": "stdout",
     "output_type": "stream",
     "text": [
      "<class 'pandas.core.frame.DataFrame'>\n",
      "RangeIndex: 50000 entries, 0 to 49999\n",
      "Data columns (total 14 columns):\n",
      " #   Column                 Non-Null Count  Dtype  \n",
      "---  ------                 --------------  -----  \n",
      " 0   num_passengers         50000 non-null  int64  \n",
      " 1   sales_channel          50000 non-null  object \n",
      " 2   trip_type              50000 non-null  object \n",
      " 3   purchase_lead          50000 non-null  int64  \n",
      " 4   length_of_stay         50000 non-null  int64  \n",
      " 5   flight_hour            50000 non-null  int64  \n",
      " 6   flight_day             50000 non-null  object \n",
      " 7   route                  50000 non-null  object \n",
      " 8   booking_origin         50000 non-null  object \n",
      " 9   wants_extra_baggage    50000 non-null  int64  \n",
      " 10  wants_preferred_seat   50000 non-null  int64  \n",
      " 11  wants_in_flight_meals  50000 non-null  int64  \n",
      " 12  flight_duration        50000 non-null  float64\n",
      " 13  booking_complete       50000 non-null  int64  \n",
      "dtypes: float64(1), int64(8), object(5)\n",
      "memory usage: 5.3+ MB\n"
     ]
    }
   ],
   "source": [
    "df.info()"
   ]
  },
  {
   "cell_type": "markdown",
   "metadata": {},
   "source": [
    "The `.info()` method gives us a data description, telling us the names of the columns, their data types and how many null values we have. Fortunately, we have no null values. It looks like some of these columns should be converted into different data types, e.g. flight_day.\n",
    "\n",
    "To provide more context, below is a more detailed data description, explaining exactly what each column means:\n",
    "\n",
    "- `num_passengers` = number of passengers travelling\n",
    "- `sales_channel` = sales channel booking was made on\n",
    "- `trip_type` = trip Type (Round Trip, One Way, Circle Trip)\n",
    "- `purchase_lead` = number of days between travel date and booking date\n",
    "- `length_of_stay` = number of days spent at destination\n",
    "- `flight_hour` = hour of flight departure\n",
    "- `flight_day` = day of week of flight departure\n",
    "- `route` = origin -> destination flight route\n",
    "- `booking_origin` = country from where booking was made\n",
    "- `wants_extra_baggage` = if the customer wanted extra baggage in the booking\n",
    "- `wants_preferred_seat` = if the customer wanted a preferred seat in the booking\n",
    "- `wants_in_flight_meals` = if the customer wanted in-flight meals in the booking\n",
    "- `flight_duration` = total duration of flight (in hours)\n",
    "- `booking_complete` = flag indicating if the customer completed the booking\n",
    "\n",
    "Before we compute any statistics on the data, lets do any necessary data conversion"
   ]
  },
  {
   "cell_type": "code",
   "execution_count": 74,
   "metadata": {},
   "outputs": [
    {
     "data": {
      "text/plain": [
       "array(['Sat', 'Wed', 'Thu', 'Mon', 'Sun', 'Tue', 'Fri'], dtype=object)"
      ]
     },
     "execution_count": 74,
     "metadata": {},
     "output_type": "execute_result"
    }
   ],
   "source": [
    "df[\"flight_day\"].unique()"
   ]
  },
  {
   "cell_type": "code",
   "execution_count": 75,
   "metadata": {},
   "outputs": [
    {
     "data": {
      "text/plain": [
       "array([2, 1, 3, 4, 6, 5, 7, 9, 8])"
      ]
     },
     "execution_count": 75,
     "metadata": {},
     "output_type": "execute_result"
    }
   ],
   "source": [
    "df[\"num_passengers\"].unique()"
   ]
  },
  {
   "cell_type": "code",
   "execution_count": 76,
   "metadata": {},
   "outputs": [
    {
     "data": {
      "text/plain": [
       "array(['Internet', 'Mobile'], dtype=object)"
      ]
     },
     "execution_count": 76,
     "metadata": {},
     "output_type": "execute_result"
    }
   ],
   "source": [
    "df[\"sales_channel\"].unique()"
   ]
  },
  {
   "cell_type": "code",
   "execution_count": 77,
   "metadata": {},
   "outputs": [
    {
     "data": {
      "text/plain": [
       "array(['RoundTrip', 'CircleTrip', 'OneWay'], dtype=object)"
      ]
     },
     "execution_count": 77,
     "metadata": {},
     "output_type": "execute_result"
    }
   ],
   "source": [
    "df[\"trip_type\"].unique()"
   ]
  },
  {
   "cell_type": "code",
   "execution_count": 78,
   "metadata": {},
   "outputs": [
    {
     "data": {
      "text/plain": [
       "array([262, 112, 243,  96,  68,   3, 201, 238,  80, 378, 185,   8, 265,\n",
       "       245, 192, 259,  19,  67, 351, 228,  21,  23,  25,  16,  66,  51,\n",
       "        37, 101,   7,   5,  33,  20,  56,  13,  71, 346,   9,  65, 221,\n",
       "       107,  14,  77,  24,  47,  22,  11,  35, 272, 250, 161, 128, 190,\n",
       "       311,  27, 314, 102,   2,  26,  32,  57, 198, 120,  69, 281, 282,\n",
       "        15,  31, 316, 232, 156, 196, 283,  34,  63,   6, 227, 181, 138,\n",
       "       134,  85,  93, 118,  90, 168, 127,  18, 153, 186, 263, 172, 230,\n",
       "        42,  81, 140, 285, 179, 341, 173, 180, 366, 229, 174,  82,  75,\n",
       "       163, 105, 276, 110,  83, 154,  55,  45,  54, 193,  10, 166,  97,\n",
       "       239, 182,  99,  53,  28, 384,  70, 126, 142,  87,  86, 313,  41,\n",
       "        91, 206, 197, 268, 157, 145, 241, 139,  59, 396, 280,  79, 380,\n",
       "       132, 121, 419,  58, 115, 236, 225, 116, 191, 275, 417, 159,  92,\n",
       "       106, 218, 295,  12, 305, 235, 332, 125, 204, 310, 368, 169, 214,\n",
       "       155, 325, 130, 189, 226, 122,  88, 211, 188, 129, 149,  38, 194,\n",
       "       183,  40,  95, 135, 222,  64, 162, 150,  73, 133,  89, 151, 349,\n",
       "        29, 123, 298, 195,  84, 410, 216, 111, 109,   0, 210, 326, 240,\n",
       "        39, 294, 304, 160, 363, 231,  62,   1, 178, 253,  30, 199, 171,\n",
       "       269, 301,  72, 224, 246,  44,  94, 113,  49, 254, 296,  74, 343,\n",
       "       347,  61, 352, 255, 267, 213, 237, 244, 119,  50, 293, 207, 252,\n",
       "        60, 358, 292, 203, 321,  46, 286, 393,  17, 337, 408,  52, 329,\n",
       "       164, 249, 414, 377, 402, 131,  43,  98, 411, 291, 318, 136, 152,\n",
       "       287, 279, 277, 331, 359, 146, 336, 219, 258, 403, 320, 212,  36,\n",
       "       177, 144, 348, 215, 242, 266, 233, 114, 317,  76, 345, 108, 290,\n",
       "       386, 330, 394, 170, 209, 175, 389, 302, 372,  48, 124, 208, 205,\n",
       "       143, 100,  78, 373, 641, 256, 165,   4, 423, 412, 274, 158, 388,\n",
       "       335, 322, 288, 406, 278, 333, 141, 270, 104, 247, 382, 361, 271,\n",
       "       248, 284, 200, 137, 167, 103, 364, 234, 308, 383, 370, 409, 300,\n",
       "       339, 444, 391, 117, 344, 147, 338, 202, 307, 261, 334, 260, 187,\n",
       "       309, 223, 303, 471, 306, 273, 390, 251, 369, 379, 176, 257, 184,\n",
       "       398, 148, 355, 357, 424, 387, 401, 220, 217, 577, 415, 397, 340,\n",
       "       416, 376, 323, 289, 297, 374, 557, 324, 264, 407, 360, 350, 426,\n",
       "       420, 353, 299, 328, 362, 375, 385, 315, 614, 463, 381, 342, 429,\n",
       "       425, 584, 433, 319, 392, 399, 365, 404, 422, 395, 312, 327, 428,\n",
       "       516, 354, 367, 405, 356, 453, 460, 427, 371, 413, 446, 573, 564,\n",
       "       536, 704, 514, 400, 440, 548, 436, 439, 437, 421, 418, 431, 553,\n",
       "       445, 442, 430, 495, 432, 633, 434, 625, 477, 443, 605, 435, 483,\n",
       "       606, 867])"
      ]
     },
     "execution_count": 78,
     "metadata": {},
     "output_type": "execute_result"
    }
   ],
   "source": [
    "df[\"purchase_lead\"].unique()"
   ]
  },
  {
   "cell_type": "code",
   "execution_count": 79,
   "metadata": {},
   "outputs": [
    {
     "data": {
      "text/plain": [
       "array([ 19,  20,  22,  31,  48,  33,  30,  25,  43,  24,  17,  34,  18,\n",
       "        37,  29, 155,  88,  27,  21,  28,  47,  35,  82,  26,  90,  23,\n",
       "        84,  61,  40,  96,  69,  89,  58,  56, 110, 165, 111,  38, 207,\n",
       "        91,   1, 274,  44,  57, 106,  68,  87,  51, 196,  77,  41, 278,\n",
       "       108, 180,  72,  32,  62,  45,  50,  59, 125, 124,  46,  55,  60,\n",
       "        36,  65, 208, 204,  83,  42,  85,  64,  86,  54, 238, 275,  39,\n",
       "        95,  70,  93,  49, 107, 121, 203, 188,  78, 209, 126,  80, 200,\n",
       "       255,  63,  92, 118,  79, 181,  76,  94, 305, 149, 177, 183, 162,\n",
       "        71, 109,  52, 140,  66, 184, 152,  53, 291, 329,  75, 130, 142,\n",
       "       175,  73, 304, 186, 116, 101, 223, 415, 312, 143,  81, 144, 134,\n",
       "       135, 117, 120, 138, 153,  74, 261, 103, 104, 112, 157, 266,  98,\n",
       "       318,  67, 273, 105, 148, 102, 119, 122, 603, 465, 409, 128, 233,\n",
       "        99, 113, 147, 127,  97, 170, 156, 160, 182, 115, 158,   0, 357,\n",
       "       173, 228, 205, 178, 123, 352, 141, 139, 129, 301, 176, 332, 217,\n",
       "       358, 285, 163, 359, 348, 392, 179, 132, 431, 236, 353, 137, 146,\n",
       "       174, 224, 164, 306, 252, 171, 347, 185, 150, 361, 189, 343, 151,\n",
       "       133, 230, 215, 256, 365, 168, 335, 349, 355, 331, 199, 254, 100,\n",
       "       321, 245, 350, 326, 351, 356, 360, 262, 364, 229, 193, 194, 131,\n",
       "       114, 191, 235, 239, 225, 190, 166, 280, 136, 330, 169, 345, 362,\n",
       "       240, 145, 159, 267, 363, 192, 161, 322, 315, 289, 244, 327, 308,\n",
       "       610, 172, 260, 778, 167, 226, 379, 334, 313, 342, 284, 237, 532,\n",
       "       513, 201, 206, 221, 242, 369, 290, 297, 388, 282, 218, 286, 271,\n",
       "       259, 510, 272, 292, 197, 277, 268, 435, 276, 220, 338, 303, 222,\n",
       "       187, 247, 198, 195, 214, 337, 241, 311, 279, 316, 287, 478, 399,\n",
       "       210, 341, 250, 202, 573, 216, 211, 773, 339, 294, 154, 517, 462,\n",
       "       577, 231, 293, 213, 263,   2,   3,   4,   5,   6])"
      ]
     },
     "execution_count": 79,
     "metadata": {},
     "output_type": "execute_result"
    }
   ],
   "source": [
    "df[\"length_of_stay\"].unique()"
   ]
  },
  {
   "cell_type": "code",
   "execution_count": 80,
   "metadata": {},
   "outputs": [
    {
     "data": {
      "text/plain": [
       "array([ 7,  3, 17,  4, 15, 20,  6, 14, 12,  2, 19, 10,  8, 23,  9, 13, 11,\n",
       "        0,  1,  5, 16, 18, 22, 21])"
      ]
     },
     "execution_count": 80,
     "metadata": {},
     "output_type": "execute_result"
    }
   ],
   "source": [
    "df[\"flight_hour\"].unique()"
   ]
  },
  {
   "cell_type": "code",
   "execution_count": 81,
   "metadata": {},
   "outputs": [
    {
     "data": {
      "text/plain": [
       "array(['Sat', 'Wed', 'Thu', 'Mon', 'Sun', 'Tue', 'Fri'], dtype=object)"
      ]
     },
     "execution_count": 81,
     "metadata": {},
     "output_type": "execute_result"
    }
   ],
   "source": [
    "df[\"flight_day\"].unique()"
   ]
  },
  {
   "cell_type": "code",
   "execution_count": 82,
   "metadata": {},
   "outputs": [
    {
     "data": {
      "text/plain": [
       "array(['AKLDEL', 'AKLHGH', 'AKLHND', 'AKLICN', 'AKLKIX', 'AKLKTM',\n",
       "       'AKLKUL', 'AKLMRU', 'AKLPEK', 'AKLPVG', 'AKLTPE', 'AORICN',\n",
       "       'AORKIX', 'AORKTM', 'AORMEL', 'BBIMEL', 'BBIOOL', 'BBIPER',\n",
       "       'BBISYD', 'BDOCTS', 'BDOCTU', 'BDOHGH', 'BDOICN', 'BDOIKA',\n",
       "       'BDOKIX', 'BDOMEL', 'BDOOOL', 'BDOPEK', 'BDOPER', 'BDOPUS',\n",
       "       'BDOPVG', 'BDOSYD', 'BDOTPE', 'BDOXIY', 'BKICKG', 'BKICTS',\n",
       "       'BKICTU', 'BKIHND', 'BKIICN', 'BKIKIX', 'BKIKTM', 'BKIMEL',\n",
       "       'BKIMRU', 'BKIOOL', 'BKIPEK', 'BKIPER', 'BKIPUS', 'BKIPVG',\n",
       "       'BKISYD', 'BKIXIY', 'BLRICN', 'BLRMEL', 'BLRPER', 'BLRSYD',\n",
       "       'BOMMEL', 'BOMOOL', 'BOMPER', 'BOMSYD', 'BTJJED', 'BTUICN',\n",
       "       'BTUPER', 'BTUSYD', 'BTUWUH', 'BWNCKG', 'BWNDEL', 'BWNHGH',\n",
       "       'BWNIKA', 'BWNKTM', 'BWNMEL', 'BWNOOL', 'BWNPER', 'BWNSYD',\n",
       "       'BWNTPE', 'CANDEL', 'CANIKA', 'CANMEL', 'CANMRU', 'CANOOL',\n",
       "       'CANPER', 'CANSYD', 'CCUMEL', 'CCUMRU', 'CCUOOL', 'CCUPER',\n",
       "       'CCUSYD', 'CCUTPE', 'CEBMEL', 'CEBOOL', 'CEBPER', 'CEBSYD',\n",
       "       'CGKCKG', 'CGKCTS', 'CGKCTU', 'CGKDEL', 'CGKHGH', 'CGKHND',\n",
       "       'CGKICN', 'CGKIKA', 'CGKJED', 'CGKKIX', 'CGKKTM', 'CGKMEL',\n",
       "       'CGKMRU', 'CGKOOL', 'CGKPEK', 'CGKPER', 'CGKPUS', 'CGKPVG',\n",
       "       'CGKSYD', 'CGKTPE', 'CGKWUH', 'CGKXIY', 'CKGCOK', 'CKGDPS',\n",
       "       'CKGJHB', 'CKGKCH', 'CKGLOP', 'CKGMAA', 'CKGMEL', 'CKGMYY',\n",
       "       'CKGOOL', 'CKGPEN', 'CKGPER', 'CKGPNH', 'CKGSBW', 'CKGSIN',\n",
       "       'CKGSUB', 'CKGSYD', 'CKGTGG', 'CKGTRZ', 'CKGTWU', 'CMBCTS',\n",
       "       'CMBCTU', 'CMBHGH', 'CMBHND', 'CMBICN', 'CMBKIX', 'CMBMEL',\n",
       "       'CMBMRU', 'CMBOOL', 'CMBPEK', 'CMBPER', 'CMBPVG', 'CMBSYD',\n",
       "       'CMBWUH', 'CNXHND', 'CNXICN', 'CNXKIX', 'CNXMEL', 'CNXOOL',\n",
       "       'CNXPEK', 'CNXPER', 'CNXPVG', 'CNXSYD', 'CNXTPE', 'COKCTU',\n",
       "       'COKHGH', 'COKICN', 'COKKIX', 'COKMEL', 'COKOOL', 'COKPER',\n",
       "       'COKPUS', 'COKSYD', 'COKTPE', 'COKWUH', 'CRKMEL', 'CRKOOL',\n",
       "       'CRKSYD', 'CSXPER', 'CTSDMK', 'CTSDPS', 'CTSHKT', 'CTSJHB',\n",
       "       'CTSKBR', 'CTSKCH', 'CTSKNO', 'CTSLGK', 'CTSMEL', 'CTSMYY',\n",
       "       'CTSOOL', 'CTSPEN', 'CTSPER', 'CTSSGN', 'CTSSIN', 'CTSSUB',\n",
       "       'CTSSYD', 'CTUDPS', 'CTUHKT', 'CTUIKA', 'CTUJHB', 'CTUKBV',\n",
       "       'CTUKCH', 'CTUKNO', 'CTUMAA', 'CTUMEL', 'CTUMRU', 'CTUMYY',\n",
       "       'CTUOOL', 'CTUPEN', 'CTUPER', 'CTUSBW', 'CTUSIN', 'CTUSUB',\n",
       "       'CTUSYD', 'CTUTGG', 'CTUTRZ', 'CTUTWU', 'CXRMEL', 'DACHGH',\n",
       "       'DACHND', 'DACICN', 'DACKIX', 'DACMEL', 'DACOOL', 'DACPER',\n",
       "       'DACSYD', 'DACTPE', 'DADMEL', 'DADOOL', 'DADSYD', 'DELDMK',\n",
       "       'DELDPS', 'DELHKG', 'DELHKT', 'DELHND', 'DELJHB', 'DELJOG',\n",
       "       'DELKBV', 'DELKCH', 'DELKIX', 'DELKNO', 'DELLGK', 'DELMEL',\n",
       "       'DELMFM', 'DELMNL', 'DELMRU', 'DELMYY', 'DELOOL', 'DELPEN',\n",
       "       'DELPER', 'DELPNH', 'DELSBW', 'DELSGN', 'DELSIN', 'DELSUB',\n",
       "       'DELSYD', 'DELSZX', 'DMKHGH', 'DMKHND', 'DMKICN', 'DMKIKA',\n",
       "       'DMKKIX', 'DMKKTM', 'DMKMEL', 'DMKMRU', 'DMKOOL', 'DMKPEK',\n",
       "       'DMKPER', 'DMKPUS', 'DMKPVG', 'DMKSYD', 'DMKTPE', 'DPSHGH',\n",
       "       'DPSHND', 'DPSICN', 'DPSIKA', 'DPSKIX', 'DPSKTM', 'DPSMEL',\n",
       "       'DPSMRU', 'DPSOOL', 'DPSPEK', 'DPSPUS', 'DPSPVG', 'DPSSYD',\n",
       "       'DPSTPE', 'DPSXIY', 'GOIKUL', 'GOIMEL', 'GOIOOL', 'GOIPER',\n",
       "       'GOISYD', 'HANKTM', 'HANMEL', 'HANOOL', 'HANPER', 'HANSYD',\n",
       "       'HDYHGH', 'HDYKTM', 'HDYMEL', 'HDYOOL', 'HDYPEK', 'HDYPER',\n",
       "       'HDYPVG', 'HDYSYD', 'HDYTPE', 'HGHHKT', 'HGHJHB', 'HGHJOG',\n",
       "       'HGHKBR', 'HGHKBV', 'HGHKCH', 'HGHKNO', 'HGHLGK', 'HGHLOP',\n",
       "       'HGHMAA', 'HGHMEL', 'HGHMYY', 'HGHOOL', 'HGHPEN', 'HGHPER',\n",
       "       'HGHSBW', 'HGHSUB', 'HGHSYD', 'HGHTRZ', 'HKGIKA', 'HKGKTM',\n",
       "       'HKGMEL', 'HKGMRU', 'HKGOOL', 'HKGPER', 'HKGSYD', 'HKTHND',\n",
       "       'HKTICN', 'HKTKIX', 'HKTKTM', 'HKTMEL', 'HKTMRU', 'HKTOOL',\n",
       "       'HKTPEK', 'HKTPER', 'HKTPUS', 'HKTPVG', 'HKTSYD', 'HKTTPE',\n",
       "       'HKTXIY', 'HNDIKA', 'HNDJOG', 'HNDKBR', 'HNDKBV', 'HNDKCH',\n",
       "       'HNDKNO', 'HNDKTM', 'HNDLGK', 'HNDLOP', 'HNDMAA', 'HNDMEL',\n",
       "       'HNDMLE', 'HNDOOL', 'HNDPEN', 'HNDPER', 'HNDPNH', 'HNDREP',\n",
       "       'HNDRGN', 'HNDSBW', 'HNDSGN', 'HNDSIN', 'HNDSUB', 'HNDSYD',\n",
       "       'HNDTRZ', 'HYDMEL', 'HYDOOL', 'HYDPER', 'HYDSYD', 'HYDWUH',\n",
       "       'ICNIKA', 'ICNJED', 'ICNJHB', 'ICNKBR', 'ICNKBV', 'ICNKCH',\n",
       "       'ICNKNO', 'ICNKTM', 'ICNLGK', 'ICNMAA', 'ICNMEL', 'ICNMLE',\n",
       "       'ICNMYY', 'ICNOOL', 'ICNPEN', 'ICNPER', 'ICNREP', 'ICNRGN',\n",
       "       'ICNSBW', 'ICNSDK', 'ICNSGN', 'ICNSIN', 'ICNSUB', 'ICNSYD',\n",
       "       'ICNTRZ', 'ICNVTZ', 'IKAKCH', 'IKAKIX', 'IKALOP', 'IKAMEL',\n",
       "       'IKAMFM', 'IKAMNL', 'IKAOOL', 'IKAPEK', 'IKAPEN', 'IKAPER',\n",
       "       'IKAPUS', 'IKAPVG', 'IKASGN', 'IKASIN', 'IKASUB', 'IKASYD',\n",
       "       'IKATPE', 'JEDJOG', 'JEDKNO', 'JEDMEL', 'JEDMNL', 'JEDPDG',\n",
       "       'JEDPEN', 'JEDSUB', 'JHBKIX', 'JHBKTM', 'JHBMEL', 'JHBMRU',\n",
       "       'JHBPEK', 'JHBPUS', 'JHBPVG', 'JHBSYD', 'JHBTPE', 'JHBWUH',\n",
       "       'JHBXIY', 'JOGKIX', 'JOGKTM', 'JOGMEL', 'JOGOOL', 'JOGPER',\n",
       "       'JOGPVG', 'JOGSYD', 'JOGTPE', 'KBRKIX', 'KBRKTM', 'KBRMEL',\n",
       "       'KBROOL', 'KBRPEK', 'KBRPER', 'KBRPVG', 'KBRSYD', 'KBRTPE',\n",
       "       'KBVKTM', 'KBVMEL', 'KBVOOL', 'KBVPEK', 'KBVPER', 'KBVPVG',\n",
       "       'KBVSYD', 'KCHKIX', 'KCHKTM', 'KCHMEL', 'KCHMRU', 'KCHOOL',\n",
       "       'KCHPEK', 'KCHPER', 'KCHPUS', 'KCHPVG', 'KCHSYD', 'KCHTPE',\n",
       "       'KCHXIY', 'KHHMEL', 'KHHOOL', 'KHHPER', 'KHHSYD', 'KIXKNO',\n",
       "       'KIXKTM', 'KIXLGK', 'KIXLOP', 'KIXMAA', 'KIXMEL', 'KIXMLE',\n",
       "       'KIXMYY', 'KIXOOL', 'KIXPEN', 'KIXPER', 'KIXPNH', 'KIXREP',\n",
       "       'KIXRGN', 'KIXSBW', 'KIXSGN', 'KIXSIN', 'KIXSUB', 'KIXSYD',\n",
       "       'KIXTGG', 'KIXTRZ', 'KLOMEL', 'KLOOOL', 'KNOKTM', 'KNOMEL',\n",
       "       'KNOOOL', 'KNOPEK', 'KNOPER', 'KNOPUS', 'KNOPVG', 'KNOSYD',\n",
       "       'KNOTPE', 'KNOXIY', 'KOSMEL', 'KOSOOL', 'KOSPEK', 'KOSSYD',\n",
       "       'KTMMEL', 'KTMMFM', 'KTMMYY', 'KTMPEN', 'KTMPER', 'KTMREP',\n",
       "       'KTMSGN', 'KTMSIN', 'KTMSUB', 'KTMSYD', 'KTMTGG', 'KTMTPE',\n",
       "       'KTMURT', 'KWLPER', 'LBUPER', 'LGKMEL', 'LGKOOL', 'LGKPER',\n",
       "       'LGKPUS', 'LGKPVG', 'LGKSYD', 'LGKTPE', 'LOPOOL', 'LOPPEK',\n",
       "       'LOPPVG', 'LOPSYD', 'LOPTPE', 'LOPXIY', 'LPQMEL', 'LPQOOL',\n",
       "       'LPQPER', 'LPQTPE', 'MAAMEL', 'MAAMRU', 'MAAOOL', 'MAAPER',\n",
       "       'MAAPVG', 'MAASYD', 'MAATPE', 'MAAWUH', 'MELMFM', 'MELMLE',\n",
       "       'MELMNL', 'MELMRU', 'MELMYY', 'MELPEK', 'MELPEN', 'MELPNH',\n",
       "       'MELPUS', 'MELPVG', 'MELREP', 'MELRGN', 'MELSBW', 'MELSGN',\n",
       "       'MELSIN', 'MELSUB', 'MELSWA', 'MELSZX', 'MELTGG', 'MELTPE',\n",
       "       'MELTRZ', 'MELTWU', 'MELURT', 'MELUTP', 'MELVTE', 'MELVTZ',\n",
       "       'MELWUH', 'MELXIY', 'MFMOOL', 'MFMPER', 'MFMSYD', 'MLEPEK',\n",
       "       'MLEPER', 'MLESYD', 'MNLMRU', 'MNLOOL', 'MNLPER', 'MNLSYD',\n",
       "       'MRUOOL', 'MRUPEK', 'MRUPEN', 'MRUPER', 'MRUPVG', 'MRUSGN',\n",
       "       'MRUSIN', 'MRUSUB', 'MRUSYD', 'MRUSZX', 'MYYOOL', 'MYYPER',\n",
       "       'MYYPUS', 'MYYSYD', 'MYYXIY', 'NRTSYD', 'OOLPEK', 'OOLPEN',\n",
       "       'OOLPNH', 'OOLPUS', 'OOLPVG', 'OOLREP', 'OOLRGN', 'OOLSBW',\n",
       "       'OOLSDK', 'OOLSGN', 'OOLSIN', 'OOLSUB', 'OOLSZX', 'OOLTGG',\n",
       "       'OOLTPE', 'OOLTRZ', 'OOLTWU', 'OOLURT', 'OOLUTP', 'OOLVTE',\n",
       "       'OOLWUH', 'OOLXIY', 'PEKPEN', 'PEKPER', 'PEKREP', 'PEKRGN',\n",
       "       'PEKSBW', 'PEKSIN', 'PEKSUB', 'PEKSYD', 'PEKTGG', 'PEKTRZ',\n",
       "       'PEKTWU', 'PENPER', 'PENPUS', 'PENPVG', 'PENSYD', 'PENTPE',\n",
       "       'PENWUH', 'PENXIY', 'PERPNH', 'PERPUS', 'PERPVG', 'PERREP',\n",
       "       'PERRGN', 'PERSBW', 'PERSDK', 'PERSGN', 'PERSIN', 'PERSWA',\n",
       "       'PERSZX', 'PERTGG', 'PERTPE', 'PERTRZ', 'PERTWU', 'PERUTP',\n",
       "       'PERVTE', 'PERVTZ', 'PERWUH', 'PERXIY', 'PNHSYD', 'PNHTPE',\n",
       "       'PNKTPE', 'PUSRGN', 'PUSSBW', 'PUSSGN', 'PUSSIN', 'PUSSUB',\n",
       "       'PUSSYD', 'PUSTRZ', 'PVGREP', 'PVGRGN', 'PVGSIN', 'PVGSUB',\n",
       "       'PVGSYD', 'PVGTGG', 'PVGTWU', 'PVGURT', 'REPSYD', 'REPTPE',\n",
       "       'RGNSYD', 'RGNTPE', 'SBWSYD', 'SBWTPE', 'SBWXIY', 'SDKSYD',\n",
       "       'SGNSYD', 'SGNXIY', 'SINSYD', 'SINTPE', 'SINWUH', 'SINXIY',\n",
       "       'SRGTPE', 'SUBSYD', 'SUBTPE', 'SUBXIY', 'SYDSZX', 'SYDTPE',\n",
       "       'SYDTRZ', 'SYDTWU', 'SYDVTE', 'SYDVTZ', 'SYDXIY', 'TGGTPE',\n",
       "       'TGGXIY', 'TPETRZ', 'TPEVTE', 'TRZWUH', 'TRZXIY', 'TWUXIY',\n",
       "       'HGHSGN', 'ICNTGG', 'JHBOOL', 'KBRXIY', 'KBVTPE', 'KIXTWU',\n",
       "       'LBUTPE', 'PVGSGN', 'SBWWUH', 'DELREP', 'DPSWUH', 'HKGJED',\n",
       "       'KBVKIX', 'KBVPUS', 'KIXLPQ', 'LGKPEK', 'LGKXIY', 'LOPPER',\n",
       "       'PEKSGN', 'PERSUB', 'TPETWU', 'BDOWUH', 'BKIDEL', 'CKGSGN',\n",
       "       'CTUKBR', 'CTULGK', 'CTUREP', 'DACMRU', 'DACPEK', 'DELRGN',\n",
       "       'HDYXIY', 'HGHTGG', 'HKTWUH', 'ICNVTE', 'KBRPUS', 'KCHWUH',\n",
       "       'KLOSYD', 'KNOWUH', 'MLETPE', 'SDKTPE', 'SUBWUH', 'TWUWUH',\n",
       "       'AORPUS', 'BTUCKG', 'BWNWUH', 'CKGKNO', 'CKGLGK', 'CNXDEL',\n",
       "       'CNXPUS', 'CTSJOG', 'CTSSBW', 'CTUDMK', 'CTULOP', 'DELKBR',\n",
       "       'DELURT', 'HDYKIX', 'HGHSIN', 'HGHTWU', 'HYDMRU', 'IKASZX',\n",
       "       'KBVWUH', 'KBVXIY', 'KIXLBU', 'LGKWUH', 'MELNRT', 'MLEOOL',\n",
       "       'MRUTPE', 'TPEURT', 'URTXIY', 'AORPER', 'CKGHKT', 'CKGMRU',\n",
       "       'CNXXIY', 'COKCTS', 'CSXMRU', 'CSXSYD', 'CTUMLE', 'CTUSGN',\n",
       "       'CTUSRG', 'CTUURT', 'DACPUS', 'HGHMRU', 'HKTIKA', 'HKTJED',\n",
       "       'ICNMRU', 'JEDMFM', 'KBRWUH', 'KIXMRU', 'KTMTWU', 'MLEPVG',\n",
       "       'MRUXIY'], dtype=object)"
      ]
     },
     "execution_count": 82,
     "metadata": {},
     "output_type": "execute_result"
    }
   ],
   "source": [
    "df[\"route\"].unique()"
   ]
  },
  {
   "cell_type": "code",
   "execution_count": 83,
   "metadata": {},
   "outputs": [
    {
     "data": {
      "text/plain": [
       "array(['New Zealand', 'India', 'United Kingdom', 'China', 'South Korea',\n",
       "       'Japan', 'Malaysia', 'Singapore', 'Switzerland', 'Germany',\n",
       "       'Indonesia', 'Czech Republic', 'Vietnam', 'Thailand', 'Spain',\n",
       "       'Romania', 'Ireland', 'Italy', 'Slovakia', 'United Arab Emirates',\n",
       "       'Tonga', 'Réunion', '(not set)', 'Saudi Arabia', 'Netherlands',\n",
       "       'Qatar', 'Hong Kong', 'Philippines', 'Sri Lanka', 'France',\n",
       "       'Croatia', 'United States', 'Laos', 'Hungary', 'Portugal',\n",
       "       'Cyprus', 'Australia', 'Cambodia', 'Poland', 'Belgium', 'Oman',\n",
       "       'Bangladesh', 'Kazakhstan', 'Brazil', 'Turkey', 'Kenya', 'Taiwan',\n",
       "       'Brunei', 'Chile', 'Bulgaria', 'Ukraine', 'Denmark', 'Colombia',\n",
       "       'Iran', 'Bahrain', 'Solomon Islands', 'Slovenia', 'Mauritius',\n",
       "       'Nepal', 'Russia', 'Kuwait', 'Mexico', 'Sweden', 'Austria',\n",
       "       'Lebanon', 'Jordan', 'Greece', 'Mongolia', 'Canada', 'Tanzania',\n",
       "       'Peru', 'Timor-Leste', 'Argentina', 'New Caledonia', 'Macau',\n",
       "       'Myanmar (Burma)', 'Norway', 'Panama', 'Bhutan', 'Norfolk Island',\n",
       "       'Finland', 'Nicaragua', 'Maldives', 'Egypt', 'Israel', 'Tunisia',\n",
       "       'South Africa', 'Papua New Guinea', 'Paraguay', 'Estonia',\n",
       "       'Seychelles', 'Afghanistan', 'Guam', 'Czechia', 'Malta', 'Vanuatu',\n",
       "       'Belarus', 'Pakistan', 'Iraq', 'Ghana', 'Gibraltar', 'Guatemala',\n",
       "       'Algeria', 'Svalbard & Jan Mayen'], dtype=object)"
      ]
     },
     "execution_count": 83,
     "metadata": {},
     "output_type": "execute_result"
    }
   ],
   "source": [
    "df[\"booking_origin\"].unique()"
   ]
  },
  {
   "cell_type": "code",
   "execution_count": 84,
   "metadata": {},
   "outputs": [
    {
     "data": {
      "text/plain": [
       "array([1, 0])"
      ]
     },
     "execution_count": 84,
     "metadata": {},
     "output_type": "execute_result"
    }
   ],
   "source": [
    "df[\"wants_extra_baggage\"].unique()"
   ]
  },
  {
   "cell_type": "code",
   "execution_count": 85,
   "metadata": {},
   "outputs": [
    {
     "data": {
      "text/plain": [
       "array([0, 1])"
      ]
     },
     "execution_count": 85,
     "metadata": {},
     "output_type": "execute_result"
    }
   ],
   "source": [
    "df[\"wants_preferred_seat\"].unique()"
   ]
  },
  {
   "cell_type": "code",
   "execution_count": 86,
   "metadata": {},
   "outputs": [
    {
     "data": {
      "text/plain": [
       "array([0, 1])"
      ]
     },
     "execution_count": 86,
     "metadata": {},
     "output_type": "execute_result"
    }
   ],
   "source": [
    "df[\"wants_in_flight_meals\"].unique()"
   ]
  },
  {
   "cell_type": "code",
   "execution_count": 87,
   "metadata": {},
   "outputs": [
    {
     "data": {
      "text/plain": [
       "array([5.52, 5.07, 7.57, 6.62, 7.  , 4.75, 8.83, 7.42, 6.42, 5.33, 4.67,\n",
       "       5.62, 8.58, 8.67, 4.72, 8.15, 6.33, 5.  , 4.83, 9.5 , 5.13])"
      ]
     },
     "execution_count": 87,
     "metadata": {},
     "output_type": "execute_result"
    }
   ],
   "source": [
    "df[\"flight_duration\"].unique()"
   ]
  },
  {
   "cell_type": "code",
   "execution_count": 88,
   "metadata": {},
   "outputs": [
    {
     "data": {
      "text/plain": [
       "array([0, 1])"
      ]
     },
     "execution_count": 88,
     "metadata": {},
     "output_type": "execute_result"
    }
   ],
   "source": [
    "df[\"booking_complete\"].unique()"
   ]
  },
  {
   "cell_type": "code",
   "execution_count": 89,
   "metadata": {},
   "outputs": [],
   "source": [
    "mapping = {\n",
    "    \"Mon\": 1,\n",
    "    \"Tue\": 2,\n",
    "    \"Wed\": 3,\n",
    "    \"Thu\": 4,\n",
    "    \"Fri\": 5,\n",
    "    \"Sat\": 6,\n",
    "    \"Sun\": 7,\n",
    "}\n",
    "\n",
    "df[\"flight_day\"] = df[\"flight_day\"].map(mapping)"
   ]
  },
  {
   "cell_type": "code",
   "execution_count": 90,
   "metadata": {},
   "outputs": [
    {
     "data": {
      "text/plain": [
       "array([6, 3, 4, 1, 7, 2, 5])"
      ]
     },
     "execution_count": 90,
     "metadata": {},
     "output_type": "execute_result"
    }
   ],
   "source": [
    "df[\"flight_day\"].unique()"
   ]
  },
  {
   "cell_type": "code",
   "execution_count": 91,
   "metadata": {},
   "outputs": [
    {
     "data": {
      "text/html": [
       "<div>\n",
       "<style scoped>\n",
       "    .dataframe tbody tr th:only-of-type {\n",
       "        vertical-align: middle;\n",
       "    }\n",
       "\n",
       "    .dataframe tbody tr th {\n",
       "        vertical-align: top;\n",
       "    }\n",
       "\n",
       "    .dataframe thead th {\n",
       "        text-align: right;\n",
       "    }\n",
       "</style>\n",
       "<table border=\"1\" class=\"dataframe\">\n",
       "  <thead>\n",
       "    <tr style=\"text-align: right;\">\n",
       "      <th></th>\n",
       "      <th>num_passengers</th>\n",
       "      <th>purchase_lead</th>\n",
       "      <th>length_of_stay</th>\n",
       "      <th>flight_hour</th>\n",
       "      <th>flight_day</th>\n",
       "      <th>wants_extra_baggage</th>\n",
       "      <th>wants_preferred_seat</th>\n",
       "      <th>wants_in_flight_meals</th>\n",
       "      <th>flight_duration</th>\n",
       "      <th>booking_complete</th>\n",
       "    </tr>\n",
       "  </thead>\n",
       "  <tbody>\n",
       "    <tr>\n",
       "      <th>count</th>\n",
       "      <td>50000.000000</td>\n",
       "      <td>50000.000000</td>\n",
       "      <td>50000.00000</td>\n",
       "      <td>50000.00000</td>\n",
       "      <td>50000.000000</td>\n",
       "      <td>50000.000000</td>\n",
       "      <td>50000.000000</td>\n",
       "      <td>50000.000000</td>\n",
       "      <td>50000.000000</td>\n",
       "      <td>50000.000000</td>\n",
       "    </tr>\n",
       "    <tr>\n",
       "      <th>mean</th>\n",
       "      <td>1.591240</td>\n",
       "      <td>84.940480</td>\n",
       "      <td>23.04456</td>\n",
       "      <td>9.06634</td>\n",
       "      <td>3.814420</td>\n",
       "      <td>0.668780</td>\n",
       "      <td>0.296960</td>\n",
       "      <td>0.427140</td>\n",
       "      <td>7.277561</td>\n",
       "      <td>0.149560</td>\n",
       "    </tr>\n",
       "    <tr>\n",
       "      <th>std</th>\n",
       "      <td>1.020165</td>\n",
       "      <td>90.451378</td>\n",
       "      <td>33.88767</td>\n",
       "      <td>5.41266</td>\n",
       "      <td>1.992792</td>\n",
       "      <td>0.470657</td>\n",
       "      <td>0.456923</td>\n",
       "      <td>0.494668</td>\n",
       "      <td>1.496863</td>\n",
       "      <td>0.356643</td>\n",
       "    </tr>\n",
       "    <tr>\n",
       "      <th>min</th>\n",
       "      <td>1.000000</td>\n",
       "      <td>0.000000</td>\n",
       "      <td>0.00000</td>\n",
       "      <td>0.00000</td>\n",
       "      <td>1.000000</td>\n",
       "      <td>0.000000</td>\n",
       "      <td>0.000000</td>\n",
       "      <td>0.000000</td>\n",
       "      <td>4.670000</td>\n",
       "      <td>0.000000</td>\n",
       "    </tr>\n",
       "    <tr>\n",
       "      <th>25%</th>\n",
       "      <td>1.000000</td>\n",
       "      <td>21.000000</td>\n",
       "      <td>5.00000</td>\n",
       "      <td>5.00000</td>\n",
       "      <td>2.000000</td>\n",
       "      <td>0.000000</td>\n",
       "      <td>0.000000</td>\n",
       "      <td>0.000000</td>\n",
       "      <td>5.620000</td>\n",
       "      <td>0.000000</td>\n",
       "    </tr>\n",
       "    <tr>\n",
       "      <th>50%</th>\n",
       "      <td>1.000000</td>\n",
       "      <td>51.000000</td>\n",
       "      <td>17.00000</td>\n",
       "      <td>9.00000</td>\n",
       "      <td>4.000000</td>\n",
       "      <td>1.000000</td>\n",
       "      <td>0.000000</td>\n",
       "      <td>0.000000</td>\n",
       "      <td>7.570000</td>\n",
       "      <td>0.000000</td>\n",
       "    </tr>\n",
       "    <tr>\n",
       "      <th>75%</th>\n",
       "      <td>2.000000</td>\n",
       "      <td>115.000000</td>\n",
       "      <td>28.00000</td>\n",
       "      <td>13.00000</td>\n",
       "      <td>5.000000</td>\n",
       "      <td>1.000000</td>\n",
       "      <td>1.000000</td>\n",
       "      <td>1.000000</td>\n",
       "      <td>8.830000</td>\n",
       "      <td>0.000000</td>\n",
       "    </tr>\n",
       "    <tr>\n",
       "      <th>max</th>\n",
       "      <td>9.000000</td>\n",
       "      <td>867.000000</td>\n",
       "      <td>778.00000</td>\n",
       "      <td>23.00000</td>\n",
       "      <td>7.000000</td>\n",
       "      <td>1.000000</td>\n",
       "      <td>1.000000</td>\n",
       "      <td>1.000000</td>\n",
       "      <td>9.500000</td>\n",
       "      <td>1.000000</td>\n",
       "    </tr>\n",
       "  </tbody>\n",
       "</table>\n",
       "</div>"
      ],
      "text/plain": [
       "       num_passengers  purchase_lead  length_of_stay  flight_hour  \\\n",
       "count    50000.000000   50000.000000     50000.00000  50000.00000   \n",
       "mean         1.591240      84.940480        23.04456      9.06634   \n",
       "std          1.020165      90.451378        33.88767      5.41266   \n",
       "min          1.000000       0.000000         0.00000      0.00000   \n",
       "25%          1.000000      21.000000         5.00000      5.00000   \n",
       "50%          1.000000      51.000000        17.00000      9.00000   \n",
       "75%          2.000000     115.000000        28.00000     13.00000   \n",
       "max          9.000000     867.000000       778.00000     23.00000   \n",
       "\n",
       "         flight_day  wants_extra_baggage  wants_preferred_seat  \\\n",
       "count  50000.000000         50000.000000          50000.000000   \n",
       "mean       3.814420             0.668780              0.296960   \n",
       "std        1.992792             0.470657              0.456923   \n",
       "min        1.000000             0.000000              0.000000   \n",
       "25%        2.000000             0.000000              0.000000   \n",
       "50%        4.000000             1.000000              0.000000   \n",
       "75%        5.000000             1.000000              1.000000   \n",
       "max        7.000000             1.000000              1.000000   \n",
       "\n",
       "       wants_in_flight_meals  flight_duration  booking_complete  \n",
       "count           50000.000000     50000.000000      50000.000000  \n",
       "mean                0.427140         7.277561          0.149560  \n",
       "std                 0.494668         1.496863          0.356643  \n",
       "min                 0.000000         4.670000          0.000000  \n",
       "25%                 0.000000         5.620000          0.000000  \n",
       "50%                 0.000000         7.570000          0.000000  \n",
       "75%                 1.000000         8.830000          0.000000  \n",
       "max                 1.000000         9.500000          1.000000  "
      ]
     },
     "execution_count": 91,
     "metadata": {},
     "output_type": "execute_result"
    }
   ],
   "source": [
    "df.describe()"
   ]
  },
  {
   "cell_type": "markdown",
   "metadata": {},
   "source": [
    "The `.describe()` method gives us a summary of descriptive statistics over the entire dataset (only works for numeric columns). This gives us a quick overview of a few things such as the mean, min, max and overall distribution of each column.\n",
    "\n",
    "From this point, you should continue exploring the dataset with some visualisations and other metrics that you think may be useful. Then, you should prepare your dataset for predictive modelling. Finally, you should train your machine learning model, evaluate it with performance metrics and output visualisations for the contributing variables. All of this analysis should be summarised in your single slide."
   ]
  },
  {
   "cell_type": "markdown",
   "metadata": {},
   "source": [
    "# Sales channel"
   ]
  },
  {
   "cell_type": "code",
   "execution_count": 92,
   "metadata": {},
   "outputs": [],
   "source": [
    "per_internet = df.sales_channel.value_counts().values[0] / df.sales_channel.count() * 100\n",
    "per_mobile = df.sales_channel.value_counts().values[1] / df.sales_channel.count() * 100"
   ]
  },
  {
   "cell_type": "code",
   "execution_count": 93,
   "metadata": {},
   "outputs": [
    {
     "name": "stdout",
     "output_type": "stream",
     "text": [
      "Number of sales made through internet 88.764%\n",
      "Number of sales made through mobile 11.236%\n"
     ]
    }
   ],
   "source": [
    "print(f\"Number of sales made through internet {per_internet}%\")\n",
    "print(f\"Number of sales made through mobile {per_mobile}%\")"
   ]
  },
  {
   "cell_type": "markdown",
   "metadata": {},
   "source": [
    "# Trip type"
   ]
  },
  {
   "cell_type": "code",
   "execution_count": 94,
   "metadata": {},
   "outputs": [],
   "source": [
    "one_way = df.trip_type.value_counts().values[0] / df.trip_type.count() * 100\n",
    "circle_trip = df.trip_type.value_counts().values[1] / df.trip_type.count() * 100\n",
    "round_trip = df.trip_type.value_counts().values[2] / df.trip_type.count() * 100"
   ]
  },
  {
   "cell_type": "code",
   "execution_count": 95,
   "metadata": {},
   "outputs": [
    {
     "name": "stdout",
     "output_type": "stream",
     "text": [
      "Percentage of one way trips 98.994%\n",
      "Percentage of circle trips 0.774%\n",
      "Percentage of round trips 0.232%\n"
     ]
    }
   ],
   "source": [
    "print(f\"Percentage of one way trips {one_way}%\")\n",
    "print(f\"Percentage of circle trips {circle_trip}%\")\n",
    "print(f\"Percentage of round trips {round_trip}%\")"
   ]
  },
  {
   "cell_type": "markdown",
   "metadata": {},
   "source": [
    "# Purchase lead"
   ]
  },
  {
   "cell_type": "code",
   "execution_count": 96,
   "metadata": {},
   "outputs": [
    {
     "data": {
      "text/plain": [
       "<Axes: xlabel='purchase_lead', ylabel='Count'>"
      ]
     },
     "execution_count": 96,
     "metadata": {},
     "output_type": "execute_result"
    },
    {
     "data": {
      "image/png": "[encoded data removed]",
      "text/plain": [
       "<Figure size 1500x500 with 1 Axes>"
      ]
     },
     "metadata": {},
     "output_type": "display_data"
    }
   ],
   "source": [
    "plt.figure(figsize=(15,5))\n",
    "sns.histplot(data=df, x=\"purchase_lead\", binwidth=20, kde=True)"
   ]
  },
  {
   "cell_type": "code",
   "execution_count": 97,
   "metadata": {},
   "outputs": [
    {
     "data": {
      "text/plain": [
       "False    49992\n",
       "True         8\n",
       "Name: purchase_lead, dtype: int64"
      ]
     },
     "execution_count": 97,
     "metadata": {},
     "output_type": "execute_result"
    }
   ],
   "source": [
    "(df.purchase_lead > 600).value_counts()"
   ]
  },
  {
   "cell_type": "code",
   "execution_count": 98,
   "metadata": {},
   "outputs": [
    {
     "data": {
      "text/html": [
       "<div>\n",
       "<style scoped>\n",
       "    .dataframe tbody tr th:only-of-type {\n",
       "        vertical-align: middle;\n",
       "    }\n",
       "\n",
       "    .dataframe tbody tr th {\n",
       "        vertical-align: top;\n",
       "    }\n",
       "\n",
       "    .dataframe thead th {\n",
       "        text-align: right;\n",
       "    }\n",
       "</style>\n",
       "<table border=\"1\" class=\"dataframe\">\n",
       "  <thead>\n",
       "    <tr style=\"text-align: right;\">\n",
       "      <th></th>\n",
       "      <th>num_passengers</th>\n",
       "      <th>sales_channel</th>\n",
       "      <th>trip_type</th>\n",
       "      <th>purchase_lead</th>\n",
       "      <th>length_of_stay</th>\n",
       "      <th>flight_hour</th>\n",
       "      <th>flight_day</th>\n",
       "      <th>route</th>\n",
       "      <th>booking_origin</th>\n",
       "      <th>wants_extra_baggage</th>\n",
       "      <th>wants_preferred_seat</th>\n",
       "      <th>wants_in_flight_meals</th>\n",
       "      <th>flight_duration</th>\n",
       "      <th>booking_complete</th>\n",
       "    </tr>\n",
       "  </thead>\n",
       "  <tbody>\n",
       "    <tr>\n",
       "      <th>835</th>\n",
       "      <td>3</td>\n",
       "      <td>Internet</td>\n",
       "      <td>RoundTrip</td>\n",
       "      <td>641</td>\n",
       "      <td>46</td>\n",
       "      <td>6</td>\n",
       "      <td>7</td>\n",
       "      <td>AKLKUL</td>\n",
       "      <td>Malaysia</td>\n",
       "      <td>1</td>\n",
       "      <td>0</td>\n",
       "      <td>1</td>\n",
       "      <td>8.83</td>\n",
       "      <td>1</td>\n",
       "    </tr>\n",
       "    <tr>\n",
       "      <th>6148</th>\n",
       "      <td>1</td>\n",
       "      <td>Internet</td>\n",
       "      <td>RoundTrip</td>\n",
       "      <td>614</td>\n",
       "      <td>19</td>\n",
       "      <td>11</td>\n",
       "      <td>3</td>\n",
       "      <td>COKMEL</td>\n",
       "      <td>Australia</td>\n",
       "      <td>0</td>\n",
       "      <td>0</td>\n",
       "      <td>0</td>\n",
       "      <td>8.83</td>\n",
       "      <td>0</td>\n",
       "    </tr>\n",
       "    <tr>\n",
       "      <th>24119</th>\n",
       "      <td>1</td>\n",
       "      <td>Internet</td>\n",
       "      <td>RoundTrip</td>\n",
       "      <td>704</td>\n",
       "      <td>23</td>\n",
       "      <td>8</td>\n",
       "      <td>2</td>\n",
       "      <td>PNHSYD</td>\n",
       "      <td>Australia</td>\n",
       "      <td>0</td>\n",
       "      <td>0</td>\n",
       "      <td>0</td>\n",
       "      <td>8.58</td>\n",
       "      <td>0</td>\n",
       "    </tr>\n",
       "    <tr>\n",
       "      <th>38356</th>\n",
       "      <td>2</td>\n",
       "      <td>Internet</td>\n",
       "      <td>RoundTrip</td>\n",
       "      <td>633</td>\n",
       "      <td>5</td>\n",
       "      <td>10</td>\n",
       "      <td>6</td>\n",
       "      <td>HKTOOL</td>\n",
       "      <td>Australia</td>\n",
       "      <td>0</td>\n",
       "      <td>0</td>\n",
       "      <td>1</td>\n",
       "      <td>8.83</td>\n",
       "      <td>0</td>\n",
       "    </tr>\n",
       "    <tr>\n",
       "      <th>39417</th>\n",
       "      <td>1</td>\n",
       "      <td>Mobile</td>\n",
       "      <td>RoundTrip</td>\n",
       "      <td>625</td>\n",
       "      <td>5</td>\n",
       "      <td>15</td>\n",
       "      <td>5</td>\n",
       "      <td>ICNRGN</td>\n",
       "      <td>Myanmar (Burma)</td>\n",
       "      <td>0</td>\n",
       "      <td>0</td>\n",
       "      <td>0</td>\n",
       "      <td>6.62</td>\n",
       "      <td>0</td>\n",
       "    </tr>\n",
       "    <tr>\n",
       "      <th>42916</th>\n",
       "      <td>1</td>\n",
       "      <td>Mobile</td>\n",
       "      <td>RoundTrip</td>\n",
       "      <td>605</td>\n",
       "      <td>6</td>\n",
       "      <td>18</td>\n",
       "      <td>4</td>\n",
       "      <td>BLRMEL</td>\n",
       "      <td>India</td>\n",
       "      <td>0</td>\n",
       "      <td>0</td>\n",
       "      <td>0</td>\n",
       "      <td>8.83</td>\n",
       "      <td>0</td>\n",
       "    </tr>\n",
       "    <tr>\n",
       "      <th>46716</th>\n",
       "      <td>2</td>\n",
       "      <td>Internet</td>\n",
       "      <td>RoundTrip</td>\n",
       "      <td>606</td>\n",
       "      <td>6</td>\n",
       "      <td>6</td>\n",
       "      <td>5</td>\n",
       "      <td>HKTTPE</td>\n",
       "      <td>United States</td>\n",
       "      <td>0</td>\n",
       "      <td>0</td>\n",
       "      <td>1</td>\n",
       "      <td>4.67</td>\n",
       "      <td>0</td>\n",
       "    </tr>\n",
       "    <tr>\n",
       "      <th>48259</th>\n",
       "      <td>3</td>\n",
       "      <td>Internet</td>\n",
       "      <td>RoundTrip</td>\n",
       "      <td>867</td>\n",
       "      <td>6</td>\n",
       "      <td>7</td>\n",
       "      <td>1</td>\n",
       "      <td>KIXMLE</td>\n",
       "      <td>Japan</td>\n",
       "      <td>0</td>\n",
       "      <td>0</td>\n",
       "      <td>1</td>\n",
       "      <td>7.00</td>\n",
       "      <td>1</td>\n",
       "    </tr>\n",
       "  </tbody>\n",
       "</table>\n",
       "</div>"
      ],
      "text/plain": [
       "       num_passengers sales_channel  trip_type  purchase_lead  length_of_stay  \\\n",
       "835                 3      Internet  RoundTrip            641              46   \n",
       "6148                1      Internet  RoundTrip            614              19   \n",
       "24119               1      Internet  RoundTrip            704              23   \n",
       "38356               2      Internet  RoundTrip            633               5   \n",
       "39417               1        Mobile  RoundTrip            625               5   \n",
       "42916               1        Mobile  RoundTrip            605               6   \n",
       "46716               2      Internet  RoundTrip            606               6   \n",
       "48259               3      Internet  RoundTrip            867               6   \n",
       "\n",
       "       flight_hour  flight_day   route   booking_origin  wants_extra_baggage  \\\n",
       "835              6           7  AKLKUL         Malaysia                    1   \n",
       "6148            11           3  COKMEL        Australia                    0   \n",
       "24119            8           2  PNHSYD        Australia                    0   \n",
       "38356           10           6  HKTOOL        Australia                    0   \n",
       "39417           15           5  ICNRGN  Myanmar (Burma)                    0   \n",
       "42916           18           4  BLRMEL            India                    0   \n",
       "46716            6           5  HKTTPE    United States                    0   \n",
       "48259            7           1  KIXMLE            Japan                    0   \n",
       "\n",
       "       wants_preferred_seat  wants_in_flight_meals  flight_duration  \\\n",
       "835                       0                      1             8.83   \n",
       "6148                      0                      0             8.83   \n",
       "24119                     0                      0             8.58   \n",
       "38356                     0                      1             8.83   \n",
       "39417                     0                      0             6.62   \n",
       "42916                     0                      0             8.83   \n",
       "46716                     0                      1             4.67   \n",
       "48259                     0                      1             7.00   \n",
       "\n",
       "       booking_complete  \n",
       "835                   1  \n",
       "6148                  0  \n",
       "24119                 0  \n",
       "38356                 0  \n",
       "39417                 0  \n",
       "42916                 0  \n",
       "46716                 0  \n",
       "48259                 1  "
      ]
     },
     "execution_count": 98,
     "metadata": {},
     "output_type": "execute_result"
    }
   ],
   "source": [
    "df[df.purchase_lead > 600]"
   ]
  },
  {
   "cell_type": "code",
   "execution_count": 99,
   "metadata": {},
   "outputs": [
    {
     "data": {
      "text/html": [
       "<div>\n",
       "<style scoped>\n",
       "    .dataframe tbody tr th:only-of-type {\n",
       "        vertical-align: middle;\n",
       "    }\n",
       "\n",
       "    .dataframe tbody tr th {\n",
       "        vertical-align: top;\n",
       "    }\n",
       "\n",
       "    .dataframe thead th {\n",
       "        text-align: right;\n",
       "    }\n",
       "</style>\n",
       "<table border=\"1\" class=\"dataframe\">\n",
       "  <thead>\n",
       "    <tr style=\"text-align: right;\">\n",
       "      <th></th>\n",
       "      <th>num_passengers</th>\n",
       "      <th>sales_channel</th>\n",
       "      <th>trip_type</th>\n",
       "      <th>purchase_lead</th>\n",
       "      <th>length_of_stay</th>\n",
       "      <th>flight_hour</th>\n",
       "      <th>flight_day</th>\n",
       "      <th>route</th>\n",
       "      <th>booking_origin</th>\n",
       "      <th>wants_extra_baggage</th>\n",
       "      <th>wants_preferred_seat</th>\n",
       "      <th>wants_in_flight_meals</th>\n",
       "      <th>flight_duration</th>\n",
       "      <th>booking_complete</th>\n",
       "    </tr>\n",
       "  </thead>\n",
       "  <tbody>\n",
       "    <tr>\n",
       "      <th>0</th>\n",
       "      <td>2</td>\n",
       "      <td>Internet</td>\n",
       "      <td>RoundTrip</td>\n",
       "      <td>262</td>\n",
       "      <td>19</td>\n",
       "      <td>7</td>\n",
       "      <td>6</td>\n",
       "      <td>AKLDEL</td>\n",
       "      <td>New Zealand</td>\n",
       "      <td>1</td>\n",
       "      <td>0</td>\n",
       "      <td>0</td>\n",
       "      <td>5.52</td>\n",
       "      <td>0</td>\n",
       "    </tr>\n",
       "    <tr>\n",
       "      <th>1</th>\n",
       "      <td>1</td>\n",
       "      <td>Internet</td>\n",
       "      <td>RoundTrip</td>\n",
       "      <td>112</td>\n",
       "      <td>20</td>\n",
       "      <td>3</td>\n",
       "      <td>6</td>\n",
       "      <td>AKLDEL</td>\n",
       "      <td>New Zealand</td>\n",
       "      <td>0</td>\n",
       "      <td>0</td>\n",
       "      <td>0</td>\n",
       "      <td>5.52</td>\n",
       "      <td>0</td>\n",
       "    </tr>\n",
       "    <tr>\n",
       "      <th>2</th>\n",
       "      <td>2</td>\n",
       "      <td>Internet</td>\n",
       "      <td>RoundTrip</td>\n",
       "      <td>243</td>\n",
       "      <td>22</td>\n",
       "      <td>17</td>\n",
       "      <td>3</td>\n",
       "      <td>AKLDEL</td>\n",
       "      <td>India</td>\n",
       "      <td>1</td>\n",
       "      <td>1</td>\n",
       "      <td>0</td>\n",
       "      <td>5.52</td>\n",
       "      <td>0</td>\n",
       "    </tr>\n",
       "    <tr>\n",
       "      <th>3</th>\n",
       "      <td>1</td>\n",
       "      <td>Internet</td>\n",
       "      <td>RoundTrip</td>\n",
       "      <td>96</td>\n",
       "      <td>31</td>\n",
       "      <td>4</td>\n",
       "      <td>6</td>\n",
       "      <td>AKLDEL</td>\n",
       "      <td>New Zealand</td>\n",
       "      <td>0</td>\n",
       "      <td>0</td>\n",
       "      <td>1</td>\n",
       "      <td>5.52</td>\n",
       "      <td>0</td>\n",
       "    </tr>\n",
       "    <tr>\n",
       "      <th>4</th>\n",
       "      <td>2</td>\n",
       "      <td>Internet</td>\n",
       "      <td>RoundTrip</td>\n",
       "      <td>68</td>\n",
       "      <td>22</td>\n",
       "      <td>15</td>\n",
       "      <td>3</td>\n",
       "      <td>AKLDEL</td>\n",
       "      <td>India</td>\n",
       "      <td>1</td>\n",
       "      <td>0</td>\n",
       "      <td>1</td>\n",
       "      <td>5.52</td>\n",
       "      <td>0</td>\n",
       "    </tr>\n",
       "    <tr>\n",
       "      <th>...</th>\n",
       "      <td>...</td>\n",
       "      <td>...</td>\n",
       "      <td>...</td>\n",
       "      <td>...</td>\n",
       "      <td>...</td>\n",
       "      <td>...</td>\n",
       "      <td>...</td>\n",
       "      <td>...</td>\n",
       "      <td>...</td>\n",
       "      <td>...</td>\n",
       "      <td>...</td>\n",
       "      <td>...</td>\n",
       "      <td>...</td>\n",
       "      <td>...</td>\n",
       "    </tr>\n",
       "    <tr>\n",
       "      <th>49995</th>\n",
       "      <td>2</td>\n",
       "      <td>Internet</td>\n",
       "      <td>RoundTrip</td>\n",
       "      <td>27</td>\n",
       "      <td>6</td>\n",
       "      <td>9</td>\n",
       "      <td>6</td>\n",
       "      <td>PERPNH</td>\n",
       "      <td>Australia</td>\n",
       "      <td>1</td>\n",
       "      <td>0</td>\n",
       "      <td>1</td>\n",
       "      <td>5.62</td>\n",
       "      <td>0</td>\n",
       "    </tr>\n",
       "    <tr>\n",
       "      <th>49996</th>\n",
       "      <td>1</td>\n",
       "      <td>Internet</td>\n",
       "      <td>RoundTrip</td>\n",
       "      <td>111</td>\n",
       "      <td>6</td>\n",
       "      <td>4</td>\n",
       "      <td>7</td>\n",
       "      <td>PERPNH</td>\n",
       "      <td>Australia</td>\n",
       "      <td>0</td>\n",
       "      <td>0</td>\n",
       "      <td>0</td>\n",
       "      <td>5.62</td>\n",
       "      <td>0</td>\n",
       "    </tr>\n",
       "    <tr>\n",
       "      <th>49997</th>\n",
       "      <td>1</td>\n",
       "      <td>Internet</td>\n",
       "      <td>RoundTrip</td>\n",
       "      <td>24</td>\n",
       "      <td>6</td>\n",
       "      <td>22</td>\n",
       "      <td>6</td>\n",
       "      <td>PERPNH</td>\n",
       "      <td>Australia</td>\n",
       "      <td>0</td>\n",
       "      <td>0</td>\n",
       "      <td>1</td>\n",
       "      <td>5.62</td>\n",
       "      <td>0</td>\n",
       "    </tr>\n",
       "    <tr>\n",
       "      <th>49998</th>\n",
       "      <td>1</td>\n",
       "      <td>Internet</td>\n",
       "      <td>RoundTrip</td>\n",
       "      <td>15</td>\n",
       "      <td>6</td>\n",
       "      <td>11</td>\n",
       "      <td>1</td>\n",
       "      <td>PERPNH</td>\n",
       "      <td>Australia</td>\n",
       "      <td>1</td>\n",
       "      <td>0</td>\n",
       "      <td>1</td>\n",
       "      <td>5.62</td>\n",
       "      <td>0</td>\n",
       "    </tr>\n",
       "    <tr>\n",
       "      <th>49999</th>\n",
       "      <td>1</td>\n",
       "      <td>Internet</td>\n",
       "      <td>RoundTrip</td>\n",
       "      <td>19</td>\n",
       "      <td>6</td>\n",
       "      <td>10</td>\n",
       "      <td>4</td>\n",
       "      <td>PERPNH</td>\n",
       "      <td>Australia</td>\n",
       "      <td>0</td>\n",
       "      <td>1</td>\n",
       "      <td>0</td>\n",
       "      <td>5.62</td>\n",
       "      <td>0</td>\n",
       "    </tr>\n",
       "  </tbody>\n",
       "</table>\n",
       "<p>49992 rows × 14 columns</p>\n",
       "</div>"
      ],
      "text/plain": [
       "       num_passengers sales_channel  trip_type  purchase_lead  length_of_stay  \\\n",
       "0                   2      Internet  RoundTrip            262              19   \n",
       "1                   1      Internet  RoundTrip            112              20   \n",
       "2                   2      Internet  RoundTrip            243              22   \n",
       "3                   1      Internet  RoundTrip             96              31   \n",
       "4                   2      Internet  RoundTrip             68              22   \n",
       "...               ...           ...        ...            ...             ...   \n",
       "49995               2      Internet  RoundTrip             27               6   \n",
       "49996               1      Internet  RoundTrip            111               6   \n",
       "49997               1      Internet  RoundTrip             24               6   \n",
       "49998               1      Internet  RoundTrip             15               6   \n",
       "49999               1      Internet  RoundTrip             19               6   \n",
       "\n",
       "       flight_hour  flight_day   route booking_origin  wants_extra_baggage  \\\n",
       "0                7           6  AKLDEL    New Zealand                    1   \n",
       "1                3           6  AKLDEL    New Zealand                    0   \n",
       "2               17           3  AKLDEL          India                    1   \n",
       "3                4           6  AKLDEL    New Zealand                    0   \n",
       "4               15           3  AKLDEL          India                    1   \n",
       "...            ...         ...     ...            ...                  ...   \n",
       "49995            9           6  PERPNH      Australia                    1   \n",
       "49996            4           7  PERPNH      Australia                    0   \n",
       "49997           22           6  PERPNH      Australia                    0   \n",
       "49998           11           1  PERPNH      Australia                    1   \n",
       "49999           10           4  PERPNH      Australia                    0   \n",
       "\n",
       "       wants_preferred_seat  wants_in_flight_meals  flight_duration  \\\n",
       "0                         0                      0             5.52   \n",
       "1                         0                      0             5.52   \n",
       "2                         1                      0             5.52   \n",
       "3                         0                      1             5.52   \n",
       "4                         0                      1             5.52   \n",
       "...                     ...                    ...              ...   \n",
       "49995                     0                      1             5.62   \n",
       "49996                     0                      0             5.62   \n",
       "49997                     0                      1             5.62   \n",
       "49998                     0                      1             5.62   \n",
       "49999                     1                      0             5.62   \n",
       "\n",
       "       booking_complete  \n",
       "0                     0  \n",
       "1                     0  \n",
       "2                     0  \n",
       "3                     0  \n",
       "4                     0  \n",
       "...                 ...  \n",
       "49995                 0  \n",
       "49996                 0  \n",
       "49997                 0  \n",
       "49998                 0  \n",
       "49999                 0  \n",
       "\n",
       "[49992 rows x 14 columns]"
      ]
     },
     "execution_count": 99,
     "metadata": {},
     "output_type": "execute_result"
    }
   ],
   "source": [
    "df[df.purchase_lead < 600]"
   ]
  },
  {
   "cell_type": "markdown",
   "metadata": {},
   "source": [
    "# Length of stay"
   ]
  },
  {
   "cell_type": "code",
   "execution_count": 100,
   "metadata": {},
   "outputs": [
    {
     "data": {
      "text/plain": [
       "<Axes: xlabel='length_of_stay', ylabel='Count'>"
      ]
     },
     "execution_count": 100,
     "metadata": {},
     "output_type": "execute_result"
    },
    {
     "data": {
      "image/png": "[encoded data removed]",
      "text/plain": [
       "<Figure size 1500x500 with 1 Axes>"
      ]
     },
     "metadata": {},
     "output_type": "display_data"
    }
   ],
   "source": [
    "plt.figure(figsize=(15,5))\n",
    "sns.histplot(data=df, x= \"length_of_stay\", binwidth=20, kde=True)"
   ]
  },
  {
   "cell_type": "code",
   "execution_count": 101,
   "metadata": {},
   "outputs": [
    {
     "data": {
      "text/plain": [
       "False    49721\n",
       "True       279\n",
       "Name: length_of_stay, dtype: int64"
      ]
     },
     "execution_count": 101,
     "metadata": {},
     "output_type": "execute_result"
    }
   ],
   "source": [
    "(df.length_of_stay > 200).value_counts()"
   ]
  },
  {
   "cell_type": "code",
   "execution_count": 102,
   "metadata": {},
   "outputs": [
    {
     "data": {
      "text/plain": [
       "0    9\n",
       "1    1\n",
       "Name: booking_complete, dtype: int64"
      ]
     },
     "execution_count": 102,
     "metadata": {},
     "output_type": "execute_result"
    }
   ],
   "source": [
    "df[df.length_of_stay > 500].booking_complete.value_counts()"
   ]
  },
  {
   "cell_type": "code",
   "execution_count": 103,
   "metadata": {},
   "outputs": [],
   "source": [
    "#filtering the data to have only length of stay days less than 500 days\n",
    "df = df[df.purchase_lead <500 ]"
   ]
  },
  {
   "cell_type": "code",
   "execution_count": 104,
   "metadata": {},
   "outputs": [],
   "source": [
    "mapping = {\n",
    "    \"Mon\" : 1,\n",
    "    \"Tue\" : 2,\n",
    "    \"Wed\" : 3,\n",
    "    \"Thu\" : 4,\n",
    "    \"Fri\" : 5,\n",
    "    \"Sat\" : 6,\n",
    "    \"Sun\" : 7\n",
    "}\n",
    "\n",
    "df.flight_day = df.flight_day.map(mapping)"
   ]
  },
  {
   "cell_type": "code",
   "execution_count": 105,
   "metadata": {},
   "outputs": [
    {
     "data": {
      "text/plain": [
       "Series([], Name: flight_day, dtype: int64)"
      ]
     },
     "execution_count": 105,
     "metadata": {},
     "output_type": "execute_result"
    }
   ],
   "source": [
    "df.flight_day.value_counts()"
   ]
  },
  {
   "cell_type": "code",
   "execution_count": 106,
   "metadata": {},
   "outputs": [
    {
     "data": {
      "text/plain": [
       "Text(0, 0.5, 'Number of bookings')"
      ]
     },
     "execution_count": 106,
     "metadata": {},
     "output_type": "execute_result"
    },
    {
     "data": {
      "image/png": "[encoded data removed]",
      "text/plain": [
       "<Figure size 1500x500 with 1 Axes>"
      ]
     },
     "metadata": {},
     "output_type": "display_data"
    }
   ],
   "source": [
    "plt.figure(figsize=(15,5))\n",
    "ax=df.booking_origin.value_counts()[:20].plot(kind=\"bar\")\n",
    "ax.set_xlabel(\"Countries\")\n",
    "ax.set_ylabel(\"Number of bookings\")"
   ]
  },
  {
   "cell_type": "code",
   "execution_count": 108,
   "metadata": {},
   "outputs": [
    {
     "data": {
      "text/plain": [
       "Text(0, 0.5, 'Nulber of complete bookings')"
      ]
     },
     "execution_count": 108,
     "metadata": {},
     "output_type": "execute_result"
    },
    {
     "data": {
      "image/png": "[encoded data removed]",
      "text/plain": [
       "<Figure size 1500x500 with 1 Axes>"
      ]
     },
     "metadata": {},
     "output_type": "display_data"
    }
   ],
   "source": [
    "plt.figure(figsize=(15,5))\n",
    "ax=df[df.booking_complete ==1].booking_origin.value_counts()[:20].plot(kind=\"bar\")\n",
    "ax.set_xlabel(\"Countries\")\n",
    "ax.set_ylabel(\"Nulber of complete bookings\")"
   ]
  },
  {
   "cell_type": "code",
   "execution_count": 109,
   "metadata": {},
   "outputs": [],
   "source": [
    "successful_booking_per = df.booking_complete.value_counts().values[0] / len(df) * 100"
   ]
  },
  {
   "cell_type": "code",
   "execution_count": 110,
   "metadata": {},
   "outputs": [],
   "source": [
    "unsuccessful_booking_per = 100-successful_booking_per"
   ]
  },
  {
   "cell_type": "code",
   "execution_count": 112,
   "metadata": {},
   "outputs": [
    {
     "name": "stdout",
     "output_type": "stream",
     "text": [
      "Out of 50000 booking entries only 14.96% bookings were successful or complete\n"
     ]
    }
   ],
   "source": [
    "print(f\"Out of 50000 booking entries only {round(unsuccessful_booking_per, 2)}% bookings were successful or complete\")"
   ]
  },
  {
   "cell_type": "code",
   "execution_count": 113,
   "metadata": {},
   "outputs": [],
   "source": [
    "df.to_csv(\"new_customer_booking.csv\")"
   ]
  }
 ],
 "metadata": {
  "kernelspec": {
   "display_name": "Python (base)",
   "language": "python",
   "name": "base"
  },
  "language_info": {
   "codemirror_mode": {
    "name": "ipython",
    "version": 3
   },
   "file_extension": ".py",
   "mimetype": "text/x-python",
   "name": "python",
   "nbconvert_exporter": "python",
   "pygments_lexer": "ipython3",
   "version": "3.10.15"
  },
  "orig_nbformat": 4,
  "vscode": {
   "interpreter": {
    "hash": "4f7924c4c56b083e0e50eadfe7ef592a7a8ef70df33a0047f82280e6be1afe15"
   }
  }
 },
 "nbformat": 4,
 "nbformat_minor": 2
}
